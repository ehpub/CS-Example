{
  "nbformat": 4,
  "nbformat_minor": 0,
  "metadata": {
    "colab": {
      "name": "데이터과학 - 통계.ipynb",
      "provenance": [],
      "collapsed_sections": [],
      "mount_file_id": "1fLi8n14Ee_-FLR6cQ7XYCcm63iYhxY7a",
      "authorship_tag": "ABX9TyM2pzcDJP+/V6ILxbJbe+h7",
      "include_colab_link": true
    },
    "kernelspec": {
      "name": "python3",
      "display_name": "Python 3"
    },
    "language_info": {
      "name": "python"
    }
  },
  "cells": [
    {
      "cell_type": "markdown",
      "metadata": {
        "id": "view-in-github",
        "colab_type": "text"
      },
      "source": [
        "<a href=\"https://colab.research.google.com/github/ehpub/CS-Example/blob/master/%EB%8D%B0%EC%9D%B4%ED%84%B0%EA%B3%BC%ED%95%99_%ED%86%B5%EA%B3%84.ipynb\" target=\"_parent\"><img src=\"https://colab.research.google.com/assets/colab-badge.svg\" alt=\"Open In Colab\"/></a>"
      ]
    },
    {
      "cell_type": "markdown",
      "metadata": {
        "id": "9mPi_yWmdoyx"
      },
      "source": [
        "데이터셋 설명하기"
      ]
    },
    {
      "cell_type": "code",
      "metadata": {
        "id": "ZocLAUM1Zk2C"
      },
      "source": [
        "import sys\n",
        "sys.path.append('/content/drive/MyDrive/code')"
      ],
      "execution_count": 1,
      "outputs": []
    },
    {
      "cell_type": "code",
      "metadata": {
        "id": "GRDwrVPjdYZV"
      },
      "source": [
        "import random\n",
        "\n",
        "num_friends = [100.0,49,41,40,25,21,21,19,19,18,18,16,15,15,15,15,14,14,13,13,13,13,12,12,11,10,10,10,10,10,10,10,10,10,10,10,10,10,10,10,9,9,9,9,9,9,9,9,9,9,9,9,9,9,9,9,9,9,8,8,8,8,8,8,8,8,8,8,8,8,8,7,7,7,7,7,7,7,7,7,7,7,7,7,7,7,6,6,6,6,6,6,6,6,6,6,6,6,6,6,6,6,6,6,6,6,6,6,5,5,5,5,5,5,5,5,5,5,5,5,5,5,5,5,5,4,4,4,4,4,4,4,4,4,4,4,4,4,4,4,4,4,4,4,4,3,3,3,3,3,3,3,3,3,3,3,3,3,3,3,3,3,3,3,3,2,2,2,2,2,2,2,2,2,2,2,2,2,2,2,2,2,1,1,1,1,1,1,1,1,1,1,1,1,1,1,1,1,1,1,1,1,1,1]"
      ],
      "execution_count": 2,
      "outputs": []
    },
    {
      "cell_type": "code",
      "metadata": {
        "id": "PHNT5EQDeuFA"
      },
      "source": [
        "from collections import Counter\n",
        "friend_counts = Counter(num_friends)"
      ],
      "execution_count": 3,
      "outputs": []
    },
    {
      "cell_type": "code",
      "metadata": {
        "colab": {
          "base_uri": "https://localhost:8080/",
          "height": 295
        },
        "id": "oHFbCghmfBCX",
        "outputId": "c5791b15-8e18-44fe-8573-491c33d59ada"
      },
      "source": [
        "import matplotlib.pyplot as plt\n",
        "xs = range(101)\n",
        "ys = [friend_counts[x] for x in xs]\n",
        "plt.bar(xs,ys)\n",
        "plt.axis([0,101,0,25])\n",
        "plt.title('Histogram of Friend Counts')\n",
        "plt.xlabel('# of friends')\n",
        "plt.ylabel('# of people')\n",
        "plt.show()"
      ],
      "execution_count": 4,
      "outputs": [
        {
          "output_type": "display_data",
          "data": {
            "image/png": "[encoded data removed]",
            "text/plain": [
              "<Figure size 432x288 with 1 Axes>"
            ]
          },
          "metadata": {
            "needs_background": "light"
          }
        }
      ]
    },
    {
      "cell_type": "code",
      "metadata": {
        "colab": {
          "base_uri": "https://localhost:8080/"
        },
        "id": "nivpUMGHfxnY",
        "outputId": "ad64d9a7-ce5a-4d7a-e254-52e8696aa0a5"
      },
      "source": [
        "num_points = len(num_friends)\n",
        "num_points"
      ],
      "execution_count": 5,
      "outputs": [
        {
          "output_type": "execute_result",
          "data": {
            "text/plain": [
              "204"
            ]
          },
          "metadata": {},
          "execution_count": 5
        }
      ]
    },
    {
      "cell_type": "code",
      "metadata": {
        "colab": {
          "base_uri": "https://localhost:8080/"
        },
        "id": "1IAydN0xf47Q",
        "outputId": "daf5d299-d430-4370-b877-3f31a0181bff"
      },
      "source": [
        "largest_value = max(num_friends)\n",
        "smallest_value = min(num_friends)\n",
        "largest_value,smallest_value"
      ],
      "execution_count": 6,
      "outputs": [
        {
          "output_type": "execute_result",
          "data": {
            "text/plain": [
              "(100.0, 1)"
            ]
          },
          "metadata": {},
          "execution_count": 6
        }
      ]
    },
    {
      "cell_type": "code",
      "metadata": {
        "colab": {
          "base_uri": "https://localhost:8080/"
        },
        "id": "r6q5yhwkgMiI",
        "outputId": "68b89bcb-1fac-4dd4-d55a-0bcc82a75e71"
      },
      "source": [
        "sorted_values = sorted(num_friends)\n",
        "sv = sorted_values[0]\n",
        "second_sv = sorted_values[1]\n",
        "second_lv = sorted_values[-2]\n",
        "lv = sorted_values[-1]\n",
        "sv,second_sv,second_lv,lv"
      ],
      "execution_count": 7,
      "outputs": [
        {
          "output_type": "execute_result",
          "data": {
            "text/plain": [
              "(1, 1, 49, 100.0)"
            ]
          },
          "metadata": {},
          "execution_count": 7
        }
      ]
    },
    {
      "cell_type": "code",
      "metadata": {
        "id": "_Qq2sJ-Fg1zZ"
      },
      "source": [
        "from typing import List\n",
        "def mean(xs:List[float]):\n",
        "  return sum(xs)/len(xs)"
      ],
      "execution_count": 8,
      "outputs": []
    },
    {
      "cell_type": "code",
      "metadata": {
        "colab": {
          "base_uri": "https://localhost:8080/"
        },
        "id": "nkygCuUkhInv",
        "outputId": "5ac5c21f-3cbf-4368-f33e-ea9af85e7ba7"
      },
      "source": [
        "mv = mean(num_friends)\n",
        "mv"
      ],
      "execution_count": 9,
      "outputs": [
        {
          "output_type": "execute_result",
          "data": {
            "text/plain": [
              "7.333333333333333"
            ]
          },
          "metadata": {},
          "execution_count": 9
        }
      ]
    },
    {
      "cell_type": "code",
      "metadata": {
        "id": "9Q2d4bjphnSZ"
      },
      "source": [
        "def median_odd(xs:List[float]):\n",
        "  return sorted(xs)[len(xs)//2]\n",
        "def median_even(xs:List[float]):\n",
        "  sorted_xs = sorted(xs)\n",
        "  hm = len(xs)//2\n",
        "  return (sorted_xs[hm-1]+sorted_xs[hm])/2\n",
        "def median(xs:List[float]):\n",
        "  return median_even(xs) if len(xs) % 2 == 0 else median_odd(xs)"
      ],
      "execution_count": 10,
      "outputs": []
    },
    {
      "cell_type": "code",
      "metadata": {
        "id": "OmaPzS2WidYo"
      },
      "source": [
        "assert median([1,10,2,9,5])==5\n",
        "assert median([1,9,2,10])==(2+9)/2"
      ],
      "execution_count": 11,
      "outputs": []
    },
    {
      "cell_type": "code",
      "metadata": {
        "colab": {
          "base_uri": "https://localhost:8080/"
        },
        "id": "QKEWZfM-iqUf",
        "outputId": "c9249083-4c71-480b-af2b-d6e746c25229"
      },
      "source": [
        "print(median(num_friends))"
      ],
      "execution_count": 12,
      "outputs": [
        {
          "output_type": "stream",
          "name": "stdout",
          "text": [
            "6.0\n"
          ]
        }
      ]
    },
    {
      "cell_type": "code",
      "metadata": {
        "id": "ReCTjsmxkMXq"
      },
      "source": [
        "def quantile(xs:List,p:float):\n",
        "  p_index = int(p*len(xs))\n",
        "  return sorted(xs)[p_index]"
      ],
      "execution_count": 13,
      "outputs": []
    },
    {
      "cell_type": "code",
      "metadata": {
        "colab": {
          "base_uri": "https://localhost:8080/"
        },
        "id": "AWAL04dHkZUX",
        "outputId": "36e61081-d427-4a62-c7d1-93e3635bd286"
      },
      "source": [
        "q_01 = quantile(num_friends,0.1)\n",
        "q_25 = quantile(num_friends,0.25)\n",
        "q_75 = quantile(num_friends,0.75)\n",
        "q_90 = quantile(num_friends,0.9)\n",
        "q_01,q_25,q_75,q_90"
      ],
      "execution_count": 14,
      "outputs": [
        {
          "output_type": "execute_result",
          "data": {
            "text/plain": [
              "(1, 3, 9, 13)"
            ]
          },
          "metadata": {},
          "execution_count": 14
        }
      ]
    },
    {
      "cell_type": "code",
      "metadata": {
        "id": "Yz_E8c3hks2n"
      },
      "source": [
        "def mode(xs:List):\n",
        "  counts = Counter(xs)\n",
        "  max_count = max(counts.values())\n",
        "  return [x_i for x_i,count in counts.items()\n",
        "              if count == max_count]"
      ],
      "execution_count": 15,
      "outputs": []
    },
    {
      "cell_type": "code",
      "metadata": {
        "colab": {
          "base_uri": "https://localhost:8080/"
        },
        "id": "ZMNbvOohk_P_",
        "outputId": "529aa09b-8c7e-4fbb-beee-adec4658dccc"
      },
      "source": [
        "mf = mode(num_friends)\n",
        "mf"
      ],
      "execution_count": 16,
      "outputs": [
        {
          "output_type": "execute_result",
          "data": {
            "text/plain": [
              "[6, 1]"
            ]
          },
          "metadata": {},
          "execution_count": 16
        }
      ]
    },
    {
      "cell_type": "code",
      "metadata": {
        "id": "JaHcpkIplRTA"
      },
      "source": [
        "def data_range(xs:List[float]):\n",
        "  return max(xs) - min(xs)"
      ],
      "execution_count": 17,
      "outputs": []
    },
    {
      "cell_type": "code",
      "metadata": {
        "colab": {
          "base_uri": "https://localhost:8080/"
        },
        "id": "CGQ2eTJNlfg-",
        "outputId": "2884780f-aa09-4937-bed4-ca19ec1335a4"
      },
      "source": [
        "dr = data_range(friend_counts)\n",
        "dr"
      ],
      "execution_count": 18,
      "outputs": [
        {
          "output_type": "execute_result",
          "data": {
            "text/plain": [
              "99.0"
            ]
          },
          "metadata": {},
          "execution_count": 18
        }
      ]
    },
    {
      "cell_type": "code",
      "metadata": {
        "id": "y0DmfM3qlnaf"
      },
      "source": [
        "from scratch.linear_algebra import sum_of_squares\n",
        "def de_mean(xs:List):\n",
        "  x_bar = mean(xs)\n",
        "  return [x - x_bar for x in xs]\n",
        "def variance(xs:List):\n",
        "  assert len(xs) >=2, \"variance requires at least two elements\"\n",
        "  n = len(xs)\n",
        "  deviations = de_mean(xs)\n",
        "  return sum_of_squares(deviations)/(n-1)"
      ],
      "execution_count": 19,
      "outputs": []
    },
    {
      "cell_type": "code",
      "metadata": {
        "colab": {
          "base_uri": "https://localhost:8080/"
        },
        "id": "6-tsxeRdx8H5",
        "outputId": "d886eb4e-ea8b-48a7-d9dc-4911491bfad3"
      },
      "source": [
        "variance(num_friends)"
      ],
      "execution_count": 20,
      "outputs": [
        {
          "output_type": "execute_result",
          "data": {
            "text/plain": [
              "81.54351395730716"
            ]
          },
          "metadata": {},
          "execution_count": 20
        }
      ]
    },
    {
      "cell_type": "code",
      "metadata": {
        "colab": {
          "base_uri": "https://localhost:8080/"
        },
        "id": "8K4XPlurySjP",
        "outputId": "4f82f601-e4f0-42f4-a97c-47745cd989c4"
      },
      "source": [
        "  n = len(num_friends)\n",
        "  deviations = de_mean(num_friends)\n",
        "  sum_of_squares(deviations)/(n-1)  "
      ],
      "execution_count": 21,
      "outputs": [
        {
          "output_type": "execute_result",
          "data": {
            "text/plain": [
              "81.54351395730716"
            ]
          },
          "metadata": {},
          "execution_count": 21
        }
      ]
    },
    {
      "cell_type": "code",
      "metadata": {
        "id": "adaWzO9izPFn"
      },
      "source": [
        "import math\n",
        "def standard_deviation(xs:List):\n",
        "  return math.sqrt(variance(xs))"
      ],
      "execution_count": 22,
      "outputs": []
    },
    {
      "cell_type": "code",
      "metadata": {
        "colab": {
          "base_uri": "https://localhost:8080/"
        },
        "id": "UC5TjS1Mzbj-",
        "outputId": "d701a9c7-b0c9-4972-b6a0-061718ec0ba4"
      },
      "source": [
        "standard_deviation(num_friends)"
      ],
      "execution_count": 23,
      "outputs": [
        {
          "output_type": "execute_result",
          "data": {
            "text/plain": [
              "9.03014473623248"
            ]
          },
          "metadata": {},
          "execution_count": 23
        }
      ]
    },
    {
      "cell_type": "code",
      "metadata": {
        "id": "6pjUsxQIzf3_"
      },
      "source": [
        "def interquartile_range(xs:List):\n",
        "  return quantile(xs,0.75) - quantile(xs,0.25)"
      ],
      "execution_count": 24,
      "outputs": []
    },
    {
      "cell_type": "code",
      "metadata": {
        "colab": {
          "base_uri": "https://localhost:8080/"
        },
        "id": "K5tKYKp3zuZO",
        "outputId": "6d47d7f3-d0d0-4ede-bb38-1c191956e2b2"
      },
      "source": [
        "interquartile_range(num_friends)"
      ],
      "execution_count": 25,
      "outputs": [
        {
          "output_type": "execute_result",
          "data": {
            "text/plain": [
              "6"
            ]
          },
          "metadata": {},
          "execution_count": 25
        }
      ]
    },
    {
      "cell_type": "code",
      "metadata": {
        "id": "NeZClJg20a8G"
      },
      "source": [
        "from scratch.linear_algebra import dot"
      ],
      "execution_count": 26,
      "outputs": []
    },
    {
      "cell_type": "code",
      "metadata": {
        "id": "jFAeZ4HM1DB_"
      },
      "source": [
        "def covariance(xs:List, ys:List):\n",
        "  assert len(xs) == len(ys), \"xs and ys must have same number of elements\"\n",
        "  return dot(de_mean(xs),de_mean(ys))/len(xs)-1"
      ],
      "execution_count": 27,
      "outputs": []
    },
    {
      "cell_type": "code",
      "metadata": {
        "colab": {
          "base_uri": "https://localhost:8080/"
        },
        "id": "JSz3UwpN1Ysn",
        "outputId": "5b15a695-4ac1-40f6-82b0-1e2a052dcb25"
      },
      "source": [
        "daily_minutes = [1,68.77,51.25,52.08,38.36,44.54,57.13,51.4,41.42,31.22,34.76,54.01,38.79,47.59,49.1,27.66,41.03,36.73,48.65,28.12,46.62,35.57,32.98,35,26.07,23.77,39.73,40.57,31.65,31.21,36.32,20.45,21.93,26.02,27.34,23.49,46.94,30.5,33.8,24.23,21.4,27.94,32.24,40.57,25.07,19.42,22.39,18.42,46.96,23.72,26.41,26.97,36.76,40.32,35.02,29.47,30.2,31,38.11,38.18,36.31,21.03,30.86,36.07,28.66,29.08,37.28,15.28,24.17,22.31,30.17,25.53,19.85,35.37,44.6,17.23,13.47,26.33,35.02,32.09,24.81,19.33,28.77,24.26,31.98,25.73,24.86,16.28,34.51,15.23,39.72,40.8,26.06,35.76,34.76,16.13,44.04,18.03,19.65,32.62,35.59,39.43,14.18,35.24,40.13,41.82,35.45,36.07,43.67,24.61,20.9,21.9,18.79,27.61,27.21,26.61,29.77,20.59,27.53,13.82,33.2,25,33.1,36.65,18.63,14.87,22.2,36.81,25.53,24.62,26.25,18.21,28.08,19.42,29.79,32.8,35.99,28.32,27.79,35.88,29.06,36.28,14.1,36.63,37.49,26.9,18.58,38.48,24.48,18.95,33.55,14.24,29.04,32.51,25.63,22.22,19,32.73,15.16,13.9,27.2,32.01,29.27,33,13.74,20.42,27.32,18.23,35.35,28.48,9.08,24.62,20.12,35.26,19.92,31.02,16.49,12.16,30.7,31.22,34.65,13.13,27.51,33.2,31.57,14.1,33.42,17.44,10.12,24.42,9.82,23.39,30.93,15.03,21.67,31.09,33.29,22.61,26.89,23.48,8.38,27.81,32.35,23.84]\n",
        "daily_hours = [dm / 60 for dm in daily_minutes]\n",
        "\n",
        "covariance(num_friends,daily_minutes)"
      ],
      "execution_count": 30,
      "outputs": [
        {
          "output_type": "execute_result",
          "data": {
            "text/plain": [
              "21.315506535947705"
            ]
          },
          "metadata": {},
          "execution_count": 30
        }
      ]
    },
    {
      "cell_type": "code",
      "metadata": {
        "id": "k_FtETjB2NBT"
      },
      "source": [
        "def correlation(xs:List, ys:List):\n",
        "  stdev_x = standard_deviation(xs)\n",
        "  stdev_y = standard_deviation(ys)\n",
        "  if stdev_x>0 and stdev_y>0:\n",
        "    return covariance(xs,ys)/stdev_x/stdev_y\n",
        "  else:\n",
        "    return 0"
      ],
      "execution_count": 31,
      "outputs": []
    },
    {
      "cell_type": "code",
      "metadata": {
        "colab": {
          "base_uri": "https://localhost:8080/"
        },
        "id": "1t20YBr12l0u",
        "outputId": "c9342393-0022-4866-d718-3ea9c4f9584c"
      },
      "source": [
        "correlation(num_friends,daily_minutes)"
      ],
      "execution_count": 32,
      "outputs": [
        {
          "output_type": "execute_result",
          "data": {
            "text/plain": [
              "0.2351262185740867"
            ]
          },
          "metadata": {},
          "execution_count": 32
        }
      ]
    },
    {
      "cell_type": "code",
      "metadata": {
        "id": "kIPLmVnA2sCX"
      },
      "source": [
        "daily_hours=[mins/60 for mins in daily_minutes]"
      ],
      "execution_count": 33,
      "outputs": []
    },
    {
      "cell_type": "code",
      "metadata": {
        "colab": {
          "base_uri": "https://localhost:8080/"
        },
        "id": "tsLRvLPs3Hlo",
        "outputId": "a4ce9dea-03d7-4e45-9c99-b4562678b468"
      },
      "source": [
        "correlation(num_friends,daily_hours)"
      ],
      "execution_count": 34,
      "outputs": [
        {
          "output_type": "execute_result",
          "data": {
            "text/plain": [
              "-0.41568857076604976"
            ]
          },
          "metadata": {},
          "execution_count": 34
        }
      ]
    },
    {
      "cell_type": "code",
      "metadata": {
        "id": "e-De8WPvgDHR"
      },
      "source": [
        "num_friends_good = [x\n",
        "                    for i, x in enumerate(num_friends)\n",
        "                    if i != outlier]\n",
        "\n",
        "daily_minutes_good = [x\n",
        "                      for i, x in enumerate(daily_minutes)\n",
        "                      if i != outlier]\n",
        "\n",
        "daily_hours_good = [dm / 60 for dm in daily_minutes_good]\n",
        "\n",
        "assert 0.57 < correlation(num_friends_good, daily_minutes_good) < 0.58\n",
        "assert 0.57 < correlation(num_friends_good, daily_hours_good) < 0.58"
      ],
      "execution_count": 38,
      "outputs": []
    }
  ]
}